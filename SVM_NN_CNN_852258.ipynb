{
  "nbformat": 4,
  "nbformat_minor": 0,
  "metadata": {
    "colab": {
      "provenance": [],
      "authorship_tag": "ABX9TyORRf6Nr1dXgFsDhoyQz6io",
      "include_colab_link": true
    },
    "kernelspec": {
      "name": "python3",
      "display_name": "Python 3"
    },
    "language_info": {
      "name": "python"
    }
  },
  "cells": [
    {
      "cell_type": "markdown",
      "metadata": {
        "id": "view-in-github",
        "colab_type": "text"
      },
      "source": [
        "<a href=\"https://colab.research.google.com/github/SnooperAlex/Big-Data-and-Machine-Learning/blob/main/SVM_NN_CNN_852258.ipynb\" target=\"_parent\"><img src=\"https://colab.research.google.com/assets/colab-badge.svg\" alt=\"Open In Colab\"/></a>"
      ]
    },
    {
      "cell_type": "code",
      "execution_count": null,
      "metadata": {
        "id": "IlKdMcxUocUY"
      },
      "outputs": [],
      "source": [
        "from sklearn.decomposition import PCA\n",
        "import random\n",
        "import tensorflow as tf\n",
        "from sklearn.model_selection import train_test_split\n",
        "from sklearn.preprocessing import StandardScaler"
      ]
    },
    {
      "cell_type": "code",
      "source": [
        "import numpy as np\n",
        "import matplotlib\n",
        "from sklearn.linear_model import LinearRegression\n",
        "plt = matplotlib.pyplot"
      ],
      "metadata": {
        "id": "sTx7_GwJsVQH"
      },
      "execution_count": null,
      "outputs": []
    },
    {
      "cell_type": "code",
      "source": [
        "wine_data = np.load('./wineData.npy')\n",
        "wine_labels = np.load('./wineLabels.npy')\n",
        "\n",
        "\n",
        "train_data, test_data, train_labels, test_labels = train_test_split(wine_data, wine_labels, train_size = 0.8)"
      ],
      "metadata": {
        "id": "oFxApHeJriL7"
      },
      "execution_count": null,
      "outputs": []
    },
    {
      "cell_type": "code",
      "source": [
        "scaler = StandardScaler()\n",
        "train_data = scaler.fit_transform(train_data)\n",
        "test_data = scaler.transform(test_data)"
      ],
      "metadata": {
        "id": "HKQ06x4vsIR-"
      },
      "execution_count": null,
      "outputs": []
    },
    {
      "cell_type": "code",
      "source": [
        "from sklearn.svm import SVC"
      ],
      "metadata": {
        "id": "WgASWHuJuvX_"
      },
      "execution_count": null,
      "outputs": []
    },
    {
      "cell_type": "code",
      "source": [
        "model = SVC(C = 1, kernel = 'rbf')\n",
        "model.fit(train_data, train_labels)\n",
        "\n",
        "predicted = model.predict(test_data)\n",
        "scoring = model.score(test_data, test_labels)\n",
        "print(scoring)\n",
        "\n",
        "fig, ax = plt.subplots(nrows = 1, ncols = 2, figsize = (10, 5))\n",
        "ax[0].scatter(test_data[:,0], test_data[:,1], c = test_labels)\n",
        "\n",
        "ax[1].scatter(test_data[:,0], test_data[:,1], c = predicted)"
      ],
      "metadata": {
        "colab": {
          "base_uri": "https://localhost:8080/",
          "height": 355
        },
        "id": "sS7qjbqQuwLF",
        "outputId": "e283644f-11c5-4bc6-af25-cc35659eb126"
      },
      "execution_count": null,
      "outputs": [
        {
          "output_type": "stream",
          "name": "stdout",
          "text": [
            "1.0\n"
          ]
        },
        {
          "output_type": "execute_result",
          "data": {
            "text/plain": [
              "<matplotlib.collections.PathCollection at 0x7fc473d542b0>"
            ]
          },
          "metadata": {},
          "execution_count": 15
        },
        {
          "output_type": "display_data",
          "data": {
            "text/plain": [
              "<Figure size 720x360 with 2 Axes>"
            ],
            "image/png": "[encoded data removed]"
          },
          "metadata": {
            "needs_background": "light"
          }
        }
      ]
    },
    {
      "cell_type": "markdown",
      "source": [
        "Task 4.2\n"
      ],
      "metadata": {
        "id": "WO8w8B-ezngM"
      }
    },
    {
      "cell_type": "code",
      "source": [
        "model1 = tf.keras.Sequential(layers=[\n",
        "    tf.keras.layers.Dense(4, activation=tf.nn.relu),\n",
        "    tf.keras.layers.Dense(10, activation=tf.nn.relu),\n",
        "    tf.keras.layers.Dense(len(np.unique(train_labels)), activation=tf.nn.softmax)])"
      ],
      "metadata": {
        "id": "1A-vmI3jzm3N"
      },
      "execution_count": null,
      "outputs": []
    },
    {
      "cell_type": "code",
      "source": [
        "model1.compile(optimizer=tf.keras.optimizers.SGD(),\n",
        "              loss=tf.keras.losses.SparseCategoricalCrossentropy(),\n",
        "              metrics=tf.keras.metrics.SparseCategoricalAccuracy())"
      ],
      "metadata": {
        "id": "KO9c6lAl-nP5"
      },
      "execution_count": null,
      "outputs": []
    },
    {
      "cell_type": "code",
      "source": [
        "history = model1.fit(train_data, train_labels, epochs=100, validation_split=0.2, verbose=1)"
      ],
      "metadata": {
        "colab": {
          "base_uri": "https://localhost:8080/"
        },
        "id": "MT4zoISa_B4L",
        "outputId": "1123664b-8804-4b91-b710-b291a6e52bf5"
      },
      "execution_count": null,
      "outputs": [
        {
          "output_type": "stream",
          "name": "stdout",
          "text": [
            "Epoch 1/100\n",
            "4/4 [==============================] - 1s 75ms/step - loss: 1.6426 - sparse_categorical_accuracy: 0.2566 - val_loss: 1.4590 - val_sparse_categorical_accuracy: 0.2759\n",
            "Epoch 2/100\n",
            "4/4 [==============================] - 0s 11ms/step - loss: 1.5435 - sparse_categorical_accuracy: 0.2389 - val_loss: 1.3936 - val_sparse_categorical_accuracy: 0.2759\n",
            "Epoch 3/100\n",
            "4/4 [==============================] - 0s 13ms/step - loss: 1.4699 - sparse_categorical_accuracy: 0.2389 - val_loss: 1.3394 - val_sparse_categorical_accuracy: 0.2759\n",
            "Epoch 4/100\n",
            "4/4 [==============================] - 0s 11ms/step - loss: 1.4093 - sparse_categorical_accuracy: 0.2920 - val_loss: 1.2939 - val_sparse_categorical_accuracy: 0.3103\n",
            "Epoch 5/100\n",
            "4/4 [==============================] - 0s 13ms/step - loss: 1.3578 - sparse_categorical_accuracy: 0.2478 - val_loss: 1.2532 - val_sparse_categorical_accuracy: 0.3448\n",
            "Epoch 6/100\n",
            "4/4 [==============================] - 0s 14ms/step - loss: 1.3125 - sparse_categorical_accuracy: 0.3451 - val_loss: 1.2182 - val_sparse_categorical_accuracy: 0.3448\n",
            "Epoch 7/100\n",
            "4/4 [==============================] - 0s 11ms/step - loss: 1.2736 - sparse_categorical_accuracy: 0.3540 - val_loss: 1.1877 - val_sparse_categorical_accuracy: 0.3448\n",
            "Epoch 8/100\n",
            "4/4 [==============================] - 0s 16ms/step - loss: 1.2382 - sparse_categorical_accuracy: 0.3540 - val_loss: 1.1595 - val_sparse_categorical_accuracy: 0.3448\n",
            "Epoch 9/100\n",
            "4/4 [==============================] - 0s 12ms/step - loss: 1.2062 - sparse_categorical_accuracy: 0.3628 - val_loss: 1.1344 - val_sparse_categorical_accuracy: 0.3448\n",
            "Epoch 10/100\n",
            "4/4 [==============================] - 0s 14ms/step - loss: 1.1772 - sparse_categorical_accuracy: 0.3717 - val_loss: 1.1119 - val_sparse_categorical_accuracy: 0.3793\n",
            "Epoch 11/100\n",
            "4/4 [==============================] - 0s 13ms/step - loss: 1.1516 - sparse_categorical_accuracy: 0.3805 - val_loss: 1.0909 - val_sparse_categorical_accuracy: 0.3793\n",
            "Epoch 12/100\n",
            "4/4 [==============================] - 0s 11ms/step - loss: 1.1275 - sparse_categorical_accuracy: 0.3894 - val_loss: 1.0719 - val_sparse_categorical_accuracy: 0.3793\n",
            "Epoch 13/100\n",
            "4/4 [==============================] - 0s 11ms/step - loss: 1.1061 - sparse_categorical_accuracy: 0.3894 - val_loss: 1.0537 - val_sparse_categorical_accuracy: 0.3793\n",
            "Epoch 14/100\n",
            "4/4 [==============================] - 0s 12ms/step - loss: 1.0856 - sparse_categorical_accuracy: 0.4071 - val_loss: 1.0357 - val_sparse_categorical_accuracy: 0.3793\n",
            "Epoch 15/100\n",
            "4/4 [==============================] - 0s 11ms/step - loss: 1.0654 - sparse_categorical_accuracy: 0.4071 - val_loss: 1.0190 - val_sparse_categorical_accuracy: 0.4483\n",
            "Epoch 16/100\n",
            "4/4 [==============================] - 0s 11ms/step - loss: 1.0464 - sparse_categorical_accuracy: 0.4336 - val_loss: 1.0025 - val_sparse_categorical_accuracy: 0.4483\n",
            "Epoch 17/100\n",
            "4/4 [==============================] - 0s 10ms/step - loss: 1.0278 - sparse_categorical_accuracy: 0.4602 - val_loss: 0.9868 - val_sparse_categorical_accuracy: 0.4483\n",
            "Epoch 18/100\n",
            "4/4 [==============================] - 0s 11ms/step - loss: 1.0101 - sparse_categorical_accuracy: 0.4867 - val_loss: 0.9717 - val_sparse_categorical_accuracy: 0.4828\n",
            "Epoch 19/100\n",
            "4/4 [==============================] - 0s 10ms/step - loss: 0.9932 - sparse_categorical_accuracy: 0.5398 - val_loss: 0.9575 - val_sparse_categorical_accuracy: 0.5172\n",
            "Epoch 20/100\n",
            "4/4 [==============================] - 0s 10ms/step - loss: 0.9775 - sparse_categorical_accuracy: 0.5575 - val_loss: 0.9434 - val_sparse_categorical_accuracy: 0.5862\n",
            "Epoch 21/100\n",
            "4/4 [==============================] - 0s 10ms/step - loss: 0.9617 - sparse_categorical_accuracy: 0.6195 - val_loss: 0.9305 - val_sparse_categorical_accuracy: 0.5517\n",
            "Epoch 22/100\n",
            "4/4 [==============================] - 0s 10ms/step - loss: 0.9470 - sparse_categorical_accuracy: 0.6372 - val_loss: 0.9175 - val_sparse_categorical_accuracy: 0.5862\n",
            "Epoch 23/100\n",
            "4/4 [==============================] - 0s 11ms/step - loss: 0.9323 - sparse_categorical_accuracy: 0.6637 - val_loss: 0.9050 - val_sparse_categorical_accuracy: 0.5862\n",
            "Epoch 24/100\n",
            "4/4 [==============================] - 0s 10ms/step - loss: 0.9180 - sparse_categorical_accuracy: 0.6991 - val_loss: 0.8929 - val_sparse_categorical_accuracy: 0.5862\n",
            "Epoch 25/100\n",
            "4/4 [==============================] - 0s 11ms/step - loss: 0.9043 - sparse_categorical_accuracy: 0.7168 - val_loss: 0.8810 - val_sparse_categorical_accuracy: 0.5862\n",
            "Epoch 26/100\n",
            "4/4 [==============================] - 0s 10ms/step - loss: 0.8913 - sparse_categorical_accuracy: 0.7345 - val_loss: 0.8698 - val_sparse_categorical_accuracy: 0.5862\n",
            "Epoch 27/100\n",
            "4/4 [==============================] - 0s 11ms/step - loss: 0.8786 - sparse_categorical_accuracy: 0.7257 - val_loss: 0.8584 - val_sparse_categorical_accuracy: 0.5862\n",
            "Epoch 28/100\n",
            "4/4 [==============================] - 0s 12ms/step - loss: 0.8659 - sparse_categorical_accuracy: 0.7434 - val_loss: 0.8473 - val_sparse_categorical_accuracy: 0.6207\n",
            "Epoch 29/100\n",
            "4/4 [==============================] - 0s 11ms/step - loss: 0.8537 - sparse_categorical_accuracy: 0.7434 - val_loss: 0.8366 - val_sparse_categorical_accuracy: 0.6207\n",
            "Epoch 30/100\n",
            "4/4 [==============================] - 0s 10ms/step - loss: 0.8415 - sparse_categorical_accuracy: 0.7434 - val_loss: 0.8262 - val_sparse_categorical_accuracy: 0.6207\n",
            "Epoch 31/100\n",
            "4/4 [==============================] - 0s 13ms/step - loss: 0.8299 - sparse_categorical_accuracy: 0.7522 - val_loss: 0.8158 - val_sparse_categorical_accuracy: 0.6207\n",
            "Epoch 32/100\n",
            "4/4 [==============================] - 0s 12ms/step - loss: 0.8179 - sparse_categorical_accuracy: 0.7611 - val_loss: 0.8058 - val_sparse_categorical_accuracy: 0.6207\n",
            "Epoch 33/100\n",
            "4/4 [==============================] - 0s 10ms/step - loss: 0.8064 - sparse_categorical_accuracy: 0.7611 - val_loss: 0.7961 - val_sparse_categorical_accuracy: 0.6207\n",
            "Epoch 34/100\n",
            "4/4 [==============================] - 0s 9ms/step - loss: 0.7952 - sparse_categorical_accuracy: 0.7434 - val_loss: 0.7868 - val_sparse_categorical_accuracy: 0.6207\n",
            "Epoch 35/100\n",
            "4/4 [==============================] - 0s 9ms/step - loss: 0.7843 - sparse_categorical_accuracy: 0.7434 - val_loss: 0.7769 - val_sparse_categorical_accuracy: 0.6207\n",
            "Epoch 36/100\n",
            "4/4 [==============================] - 0s 12ms/step - loss: 0.7732 - sparse_categorical_accuracy: 0.7522 - val_loss: 0.7676 - val_sparse_categorical_accuracy: 0.6207\n",
            "Epoch 37/100\n",
            "4/4 [==============================] - 0s 11ms/step - loss: 0.7623 - sparse_categorical_accuracy: 0.7522 - val_loss: 0.7589 - val_sparse_categorical_accuracy: 0.6207\n",
            "Epoch 38/100\n",
            "4/4 [==============================] - 0s 10ms/step - loss: 0.7520 - sparse_categorical_accuracy: 0.7611 - val_loss: 0.7502 - val_sparse_categorical_accuracy: 0.6552\n",
            "Epoch 39/100\n",
            "4/4 [==============================] - 0s 10ms/step - loss: 0.7415 - sparse_categorical_accuracy: 0.7788 - val_loss: 0.7417 - val_sparse_categorical_accuracy: 0.6552\n",
            "Epoch 40/100\n",
            "4/4 [==============================] - 0s 11ms/step - loss: 0.7315 - sparse_categorical_accuracy: 0.7699 - val_loss: 0.7334 - val_sparse_categorical_accuracy: 0.6897\n",
            "Epoch 41/100\n",
            "4/4 [==============================] - 0s 11ms/step - loss: 0.7218 - sparse_categorical_accuracy: 0.8053 - val_loss: 0.7255 - val_sparse_categorical_accuracy: 0.7241\n",
            "Epoch 42/100\n",
            "4/4 [==============================] - 0s 10ms/step - loss: 0.7114 - sparse_categorical_accuracy: 0.8496 - val_loss: 0.7172 - val_sparse_categorical_accuracy: 0.7586\n",
            "Epoch 43/100\n",
            "4/4 [==============================] - 0s 11ms/step - loss: 0.7018 - sparse_categorical_accuracy: 0.8673 - val_loss: 0.7094 - val_sparse_categorical_accuracy: 0.7931\n",
            "Epoch 44/100\n",
            "4/4 [==============================] - 0s 11ms/step - loss: 0.6920 - sparse_categorical_accuracy: 0.8761 - val_loss: 0.7017 - val_sparse_categorical_accuracy: 0.7931\n",
            "Epoch 45/100\n",
            "4/4 [==============================] - 0s 10ms/step - loss: 0.6827 - sparse_categorical_accuracy: 0.8850 - val_loss: 0.6941 - val_sparse_categorical_accuracy: 0.7931\n",
            "Epoch 46/100\n",
            "4/4 [==============================] - 0s 11ms/step - loss: 0.6735 - sparse_categorical_accuracy: 0.8850 - val_loss: 0.6864 - val_sparse_categorical_accuracy: 0.7931\n",
            "Epoch 47/100\n",
            "4/4 [==============================] - 0s 17ms/step - loss: 0.6645 - sparse_categorical_accuracy: 0.8850 - val_loss: 0.6790 - val_sparse_categorical_accuracy: 0.7931\n",
            "Epoch 48/100\n",
            "4/4 [==============================] - 0s 13ms/step - loss: 0.6555 - sparse_categorical_accuracy: 0.9027 - val_loss: 0.6718 - val_sparse_categorical_accuracy: 0.7931\n",
            "Epoch 49/100\n",
            "4/4 [==============================] - 0s 9ms/step - loss: 0.6466 - sparse_categorical_accuracy: 0.9027 - val_loss: 0.6648 - val_sparse_categorical_accuracy: 0.7931\n",
            "Epoch 50/100\n",
            "4/4 [==============================] - 0s 10ms/step - loss: 0.6375 - sparse_categorical_accuracy: 0.9027 - val_loss: 0.6577 - val_sparse_categorical_accuracy: 0.7931\n",
            "Epoch 51/100\n",
            "4/4 [==============================] - 0s 10ms/step - loss: 0.6286 - sparse_categorical_accuracy: 0.9204 - val_loss: 0.6510 - val_sparse_categorical_accuracy: 0.7931\n",
            "Epoch 52/100\n",
            "4/4 [==============================] - 0s 11ms/step - loss: 0.6201 - sparse_categorical_accuracy: 0.9204 - val_loss: 0.6441 - val_sparse_categorical_accuracy: 0.7931\n",
            "Epoch 53/100\n",
            "4/4 [==============================] - 0s 10ms/step - loss: 0.6116 - sparse_categorical_accuracy: 0.9204 - val_loss: 0.6374 - val_sparse_categorical_accuracy: 0.7931\n",
            "Epoch 54/100\n",
            "4/4 [==============================] - 0s 14ms/step - loss: 0.6031 - sparse_categorical_accuracy: 0.9204 - val_loss: 0.6310 - val_sparse_categorical_accuracy: 0.7931\n",
            "Epoch 55/100\n",
            "4/4 [==============================] - 0s 11ms/step - loss: 0.5949 - sparse_categorical_accuracy: 0.9204 - val_loss: 0.6245 - val_sparse_categorical_accuracy: 0.7931\n",
            "Epoch 56/100\n",
            "4/4 [==============================] - 0s 9ms/step - loss: 0.5868 - sparse_categorical_accuracy: 0.9204 - val_loss: 0.6181 - val_sparse_categorical_accuracy: 0.7931\n",
            "Epoch 57/100\n",
            "4/4 [==============================] - 0s 11ms/step - loss: 0.5788 - sparse_categorical_accuracy: 0.9204 - val_loss: 0.6119 - val_sparse_categorical_accuracy: 0.7931\n",
            "Epoch 58/100\n",
            "4/4 [==============================] - 0s 10ms/step - loss: 0.5707 - sparse_categorical_accuracy: 0.9204 - val_loss: 0.6053 - val_sparse_categorical_accuracy: 0.8276\n",
            "Epoch 59/100\n",
            "4/4 [==============================] - 0s 10ms/step - loss: 0.5627 - sparse_categorical_accuracy: 0.9292 - val_loss: 0.5989 - val_sparse_categorical_accuracy: 0.8276\n",
            "Epoch 60/100\n",
            "4/4 [==============================] - 0s 10ms/step - loss: 0.5550 - sparse_categorical_accuracy: 0.9381 - val_loss: 0.5926 - val_sparse_categorical_accuracy: 0.8276\n",
            "Epoch 61/100\n",
            "4/4 [==============================] - 0s 11ms/step - loss: 0.5474 - sparse_categorical_accuracy: 0.9381 - val_loss: 0.5861 - val_sparse_categorical_accuracy: 0.8276\n",
            "Epoch 62/100\n",
            "4/4 [==============================] - 0s 11ms/step - loss: 0.5394 - sparse_categorical_accuracy: 0.9381 - val_loss: 0.5799 - val_sparse_categorical_accuracy: 0.8276\n",
            "Epoch 63/100\n",
            "4/4 [==============================] - 0s 11ms/step - loss: 0.5320 - sparse_categorical_accuracy: 0.9381 - val_loss: 0.5739 - val_sparse_categorical_accuracy: 0.8276\n",
            "Epoch 64/100\n",
            "4/4 [==============================] - 0s 10ms/step - loss: 0.5246 - sparse_categorical_accuracy: 0.9381 - val_loss: 0.5679 - val_sparse_categorical_accuracy: 0.8276\n",
            "Epoch 65/100\n",
            "4/4 [==============================] - 0s 10ms/step - loss: 0.5175 - sparse_categorical_accuracy: 0.9381 - val_loss: 0.5620 - val_sparse_categorical_accuracy: 0.8276\n",
            "Epoch 66/100\n",
            "4/4 [==============================] - 0s 11ms/step - loss: 0.5103 - sparse_categorical_accuracy: 0.9469 - val_loss: 0.5562 - val_sparse_categorical_accuracy: 0.8276\n",
            "Epoch 67/100\n",
            "4/4 [==============================] - 0s 10ms/step - loss: 0.5034 - sparse_categorical_accuracy: 0.9558 - val_loss: 0.5506 - val_sparse_categorical_accuracy: 0.8276\n",
            "Epoch 68/100\n",
            "4/4 [==============================] - 0s 10ms/step - loss: 0.4967 - sparse_categorical_accuracy: 0.9558 - val_loss: 0.5449 - val_sparse_categorical_accuracy: 0.8276\n",
            "Epoch 69/100\n",
            "4/4 [==============================] - 0s 12ms/step - loss: 0.4900 - sparse_categorical_accuracy: 0.9558 - val_loss: 0.5394 - val_sparse_categorical_accuracy: 0.8276\n",
            "Epoch 70/100\n",
            "4/4 [==============================] - 0s 11ms/step - loss: 0.4835 - sparse_categorical_accuracy: 0.9558 - val_loss: 0.5341 - val_sparse_categorical_accuracy: 0.8276\n",
            "Epoch 71/100\n",
            "4/4 [==============================] - 0s 11ms/step - loss: 0.4769 - sparse_categorical_accuracy: 0.9558 - val_loss: 0.5284 - val_sparse_categorical_accuracy: 0.8276\n",
            "Epoch 72/100\n",
            "4/4 [==============================] - 0s 10ms/step - loss: 0.4705 - sparse_categorical_accuracy: 0.9558 - val_loss: 0.5232 - val_sparse_categorical_accuracy: 0.8276\n",
            "Epoch 73/100\n",
            "4/4 [==============================] - 0s 11ms/step - loss: 0.4642 - sparse_categorical_accuracy: 0.9558 - val_loss: 0.5176 - val_sparse_categorical_accuracy: 0.8276\n",
            "Epoch 74/100\n",
            "4/4 [==============================] - 0s 10ms/step - loss: 0.4575 - sparse_categorical_accuracy: 0.9558 - val_loss: 0.5124 - val_sparse_categorical_accuracy: 0.8276\n",
            "Epoch 75/100\n",
            "4/4 [==============================] - 0s 10ms/step - loss: 0.4514 - sparse_categorical_accuracy: 0.9558 - val_loss: 0.5071 - val_sparse_categorical_accuracy: 0.8276\n",
            "Epoch 76/100\n",
            "4/4 [==============================] - 0s 12ms/step - loss: 0.4451 - sparse_categorical_accuracy: 0.9558 - val_loss: 0.5018 - val_sparse_categorical_accuracy: 0.8276\n",
            "Epoch 77/100\n",
            "4/4 [==============================] - 0s 12ms/step - loss: 0.4389 - sparse_categorical_accuracy: 0.9558 - val_loss: 0.4970 - val_sparse_categorical_accuracy: 0.8276\n",
            "Epoch 78/100\n",
            "4/4 [==============================] - 0s 10ms/step - loss: 0.4329 - sparse_categorical_accuracy: 0.9558 - val_loss: 0.4921 - val_sparse_categorical_accuracy: 0.8276\n",
            "Epoch 79/100\n",
            "4/4 [==============================] - 0s 10ms/step - loss: 0.4272 - sparse_categorical_accuracy: 0.9558 - val_loss: 0.4872 - val_sparse_categorical_accuracy: 0.8621\n",
            "Epoch 80/100\n",
            "4/4 [==============================] - 0s 10ms/step - loss: 0.4213 - sparse_categorical_accuracy: 0.9558 - val_loss: 0.4821 - val_sparse_categorical_accuracy: 0.8621\n",
            "Epoch 81/100\n",
            "4/4 [==============================] - 0s 10ms/step - loss: 0.4153 - sparse_categorical_accuracy: 0.9558 - val_loss: 0.4773 - val_sparse_categorical_accuracy: 0.8621\n",
            "Epoch 82/100\n",
            "4/4 [==============================] - 0s 11ms/step - loss: 0.4096 - sparse_categorical_accuracy: 0.9558 - val_loss: 0.4721 - val_sparse_categorical_accuracy: 0.8621\n",
            "Epoch 83/100\n",
            "4/4 [==============================] - 0s 12ms/step - loss: 0.4037 - sparse_categorical_accuracy: 0.9558 - val_loss: 0.4674 - val_sparse_categorical_accuracy: 0.8621\n",
            "Epoch 84/100\n",
            "4/4 [==============================] - 0s 11ms/step - loss: 0.3981 - sparse_categorical_accuracy: 0.9558 - val_loss: 0.4626 - val_sparse_categorical_accuracy: 0.8966\n",
            "Epoch 85/100\n",
            "4/4 [==============================] - 0s 10ms/step - loss: 0.3925 - sparse_categorical_accuracy: 0.9558 - val_loss: 0.4580 - val_sparse_categorical_accuracy: 0.8966\n",
            "Epoch 86/100\n",
            "4/4 [==============================] - 0s 11ms/step - loss: 0.3872 - sparse_categorical_accuracy: 0.9558 - val_loss: 0.4537 - val_sparse_categorical_accuracy: 0.8966\n",
            "Epoch 87/100\n",
            "4/4 [==============================] - 0s 12ms/step - loss: 0.3819 - sparse_categorical_accuracy: 0.9558 - val_loss: 0.4491 - val_sparse_categorical_accuracy: 0.8966\n",
            "Epoch 88/100\n",
            "4/4 [==============================] - 0s 13ms/step - loss: 0.3766 - sparse_categorical_accuracy: 0.9558 - val_loss: 0.4447 - val_sparse_categorical_accuracy: 0.8966\n",
            "Epoch 89/100\n",
            "4/4 [==============================] - 0s 11ms/step - loss: 0.3715 - sparse_categorical_accuracy: 0.9558 - val_loss: 0.4405 - val_sparse_categorical_accuracy: 0.8966\n",
            "Epoch 90/100\n",
            "4/4 [==============================] - 0s 11ms/step - loss: 0.3664 - sparse_categorical_accuracy: 0.9646 - val_loss: 0.4359 - val_sparse_categorical_accuracy: 0.8966\n",
            "Epoch 91/100\n",
            "4/4 [==============================] - 0s 10ms/step - loss: 0.3614 - sparse_categorical_accuracy: 0.9646 - val_loss: 0.4320 - val_sparse_categorical_accuracy: 0.8966\n",
            "Epoch 92/100\n",
            "4/4 [==============================] - 0s 10ms/step - loss: 0.3565 - sparse_categorical_accuracy: 0.9646 - val_loss: 0.4278 - val_sparse_categorical_accuracy: 0.8966\n",
            "Epoch 93/100\n",
            "4/4 [==============================] - 0s 10ms/step - loss: 0.3515 - sparse_categorical_accuracy: 0.9646 - val_loss: 0.4238 - val_sparse_categorical_accuracy: 0.8966\n",
            "Epoch 94/100\n",
            "4/4 [==============================] - 0s 12ms/step - loss: 0.3467 - sparse_categorical_accuracy: 0.9646 - val_loss: 0.4195 - val_sparse_categorical_accuracy: 0.8966\n",
            "Epoch 95/100\n",
            "4/4 [==============================] - 0s 12ms/step - loss: 0.3419 - sparse_categorical_accuracy: 0.9646 - val_loss: 0.4154 - val_sparse_categorical_accuracy: 0.8966\n",
            "Epoch 96/100\n",
            "4/4 [==============================] - 0s 10ms/step - loss: 0.3373 - sparse_categorical_accuracy: 0.9646 - val_loss: 0.4108 - val_sparse_categorical_accuracy: 0.8966\n",
            "Epoch 97/100\n",
            "4/4 [==============================] - 0s 12ms/step - loss: 0.3326 - sparse_categorical_accuracy: 0.9646 - val_loss: 0.4069 - val_sparse_categorical_accuracy: 0.8966\n",
            "Epoch 98/100\n",
            "4/4 [==============================] - 0s 10ms/step - loss: 0.3277 - sparse_categorical_accuracy: 0.9646 - val_loss: 0.4029 - val_sparse_categorical_accuracy: 0.8966\n",
            "Epoch 99/100\n",
            "4/4 [==============================] - 0s 10ms/step - loss: 0.3232 - sparse_categorical_accuracy: 0.9646 - val_loss: 0.3991 - val_sparse_categorical_accuracy: 0.8966\n",
            "Epoch 100/100\n",
            "4/4 [==============================] - 0s 21ms/step - loss: 0.3188 - sparse_categorical_accuracy: 0.9646 - val_loss: 0.3953 - val_sparse_categorical_accuracy: 0.8966\n"
          ]
        }
      ]
    },
    {
      "cell_type": "code",
      "source": [
        "\n",
        "fig, ax = plt.subplots(nrows = 1, ncols = 2, figsize = (10, 5))\n",
        "ax[0].scatter(test_data[:,0], test_data[:,1], c = test_labels)\n",
        "\n",
        "predictLabels = np.argmax(model1.predict(test_data), axis = 1)\n",
        "ax[1].scatter(test_data[:,0], test_data[:,1], c = predictLabels)\n",
        "\n",
        "plt.figure(figsize = [10, 5])\n",
        "plt.subplot(121)\n",
        "plt.plot(history.history['sparse_categorical_accuracy'])\n",
        "plt.plot(history.history['val_sparse_categorical_accuracy'])\n",
        "\n",
        "plt.subplot(122)\n",
        "plt.plot(history.history['loss'])\n",
        "plt.plot(history.history['val_loss'])\n"
      ],
      "metadata": {
        "colab": {
          "base_uri": "https://localhost:8080/",
          "height": 661
        },
        "id": "ehVx-WRJBJ4v",
        "outputId": "4c1106e7-2829-4de9-bdd2-cfe53c619b51"
      },
      "execution_count": null,
      "outputs": [
        {
          "output_type": "stream",
          "name": "stdout",
          "text": [
            "2/2 [==============================] - 0s 8ms/step\n"
          ]
        },
        {
          "output_type": "execute_result",
          "data": {
            "text/plain": [
              "[<matplotlib.lines.Line2D at 0x7fc46f43dc70>]"
            ]
          },
          "metadata": {},
          "execution_count": 19
        },
        {
          "output_type": "display_data",
          "data": {
            "text/plain": [
              "<Figure size 720x360 with 2 Axes>"
            ],
            "image/png": "[encoded data removed]"
          },
          "metadata": {
            "needs_background": "light"
          }
        },
        {
          "output_type": "display_data",
          "data": {
            "text/plain": [
              "<Figure size 720x360 with 2 Axes>"
            ],
            "image/png": "[encoded data removed]"
          },
          "metadata": {
            "needs_background": "light"
          }
        }
      ]
    },
    {
      "cell_type": "markdown",
      "source": [
        "Task 4.3"
      ],
      "metadata": {
        "id": "O0WoQ-tcVspv"
      }
    },
    {
      "cell_type": "code",
      "source": [
        "(train_data, train_labels), (test_data, test_labels) = tf.keras.datasets.mnist.load_data()"
      ],
      "metadata": {
        "colab": {
          "base_uri": "https://localhost:8080/"
        },
        "id": "AxJEYW3zC8jB",
        "outputId": "545f7d64-01b7-4ae3-8dc2-3dbc97a4eca6"
      },
      "execution_count": null,
      "outputs": [
        {
          "output_type": "stream",
          "name": "stdout",
          "text": [
            "Downloading data from https://storage.googleapis.com/tensorflow/tf-keras-datasets/mnist.npz\n",
            "11490434/11490434 [==============================] - 0s 0us/step\n"
          ]
        }
      ]
    },
    {
      "cell_type": "code",
      "source": [
        "np.shape(train_data[0])"
      ],
      "metadata": {
        "id": "kkSQzHIrPWg0",
        "outputId": "caa68af1-7d1f-4272-ba91-1315bbabd6f1",
        "colab": {
          "base_uri": "https://localhost:8080/",
          "height": 165
        }
      },
      "execution_count": null,
      "outputs": [
        {
          "output_type": "error",
          "ename": "NameError",
          "evalue": "ignored",
          "traceback": [
            "\u001b[0;31m---------------------------------------------------------------------------\u001b[0m",
            "\u001b[0;31mNameError\u001b[0m                                 Traceback (most recent call last)",
            "\u001b[0;32m<ipython-input-2-2b28786ba7c9>\u001b[0m in \u001b[0;36m<module>\u001b[0;34m\u001b[0m\n\u001b[0;32m----> 1\u001b[0;31m \u001b[0mnp\u001b[0m\u001b[0;34m.\u001b[0m\u001b[0mshape\u001b[0m\u001b[0;34m(\u001b[0m\u001b[0mtrain_data\u001b[0m\u001b[0;34m[\u001b[0m\u001b[0;36m0\u001b[0m\u001b[0;34m]\u001b[0m\u001b[0;34m)\u001b[0m\u001b[0;34m\u001b[0m\u001b[0;34m\u001b[0m\u001b[0m\n\u001b[0m",
            "\u001b[0;31mNameError\u001b[0m: name 'np' is not defined"
          ]
        }
      ]
    },
    {
      "cell_type": "code",
      "source": [
        "train_data = np.reshape(train_data, (60000, 784))/255\n",
        "test_data = np.reshape(test_data, (10000, 784))/255"
      ],
      "metadata": {
        "id": "xqYy1lCwg06P"
      },
      "execution_count": null,
      "outputs": []
    },
    {
      "cell_type": "code",
      "source": [
        "model1 = tf.keras.models.Sequential(layers=[\n",
        "    tf.keras.layers.Dense(3, activation=tf.nn.relu),\n",
        "    tf.keras.layers.Dense(9, activation=tf.nn.relu),\n",
        "    tf.keras.layers.Dense(len(np.unique(test_labels)), activation=tf.nn.softmax)])\n",
        "\n",
        "model1.compile(optimizer=tf.keras.optimizers.SGD(),\n",
        "              loss=tf.keras.losses.SparseCategoricalCrossentropy(),\n",
        "              metrics=tf.keras.metrics.SparseCategoricalAccuracy())\n",
        "\n",
        "history = model1.fit(train_data, train_labels, epochs=40, validation_split=0.2, verbose=1)\n",
        "loss, accuracy = model1.evaluate(test_data, test_labels)"
      ],
      "metadata": {
        "colab": {
          "base_uri": "https://localhost:8080/"
        },
        "id": "884W4-tohJJZ",
        "outputId": "6a17373d-fe24-49f6-f68b-0ccfa29ab4a0"
      },
      "execution_count": null,
      "outputs": [
        {
          "output_type": "stream",
          "name": "stdout",
          "text": [
            "Epoch 1/40\n",
            "1500/1500 [==============================] - 6s 4ms/step - loss: 1.8044 - sparse_categorical_accuracy: 0.3867 - val_loss: 1.2515 - val_sparse_categorical_accuracy: 0.5826\n",
            "Epoch 2/40\n",
            "1500/1500 [==============================] - 4s 3ms/step - loss: 1.1416 - sparse_categorical_accuracy: 0.6232 - val_loss: 1.0255 - val_sparse_categorical_accuracy: 0.6802\n",
            "Epoch 3/40\n",
            "1500/1500 [==============================] - 3s 2ms/step - loss: 0.9723 - sparse_categorical_accuracy: 0.6935 - val_loss: 0.9178 - val_sparse_categorical_accuracy: 0.7200\n",
            "Epoch 4/40\n",
            "1500/1500 [==============================] - 3s 2ms/step - loss: 0.9008 - sparse_categorical_accuracy: 0.7193 - val_loss: 0.8663 - val_sparse_categorical_accuracy: 0.7352\n",
            "Epoch 5/40\n",
            "1500/1500 [==============================] - 3s 2ms/step - loss: 0.8602 - sparse_categorical_accuracy: 0.7344 - val_loss: 0.8414 - val_sparse_categorical_accuracy: 0.7411\n",
            "Epoch 6/40\n",
            "1500/1500 [==============================] - 3s 2ms/step - loss: 0.8273 - sparse_categorical_accuracy: 0.7458 - val_loss: 0.8107 - val_sparse_categorical_accuracy: 0.7502\n",
            "Epoch 7/40\n",
            "1500/1500 [==============================] - 3s 2ms/step - loss: 0.7993 - sparse_categorical_accuracy: 0.7528 - val_loss: 0.7752 - val_sparse_categorical_accuracy: 0.7650\n",
            "Epoch 8/40\n",
            "1500/1500 [==============================] - 3s 2ms/step - loss: 0.7761 - sparse_categorical_accuracy: 0.7595 - val_loss: 0.7509 - val_sparse_categorical_accuracy: 0.7705\n",
            "Epoch 9/40\n",
            "1500/1500 [==============================] - 4s 2ms/step - loss: 0.7586 - sparse_categorical_accuracy: 0.7660 - val_loss: 0.7358 - val_sparse_categorical_accuracy: 0.7728\n",
            "Epoch 10/40\n",
            "1500/1500 [==============================] - 3s 2ms/step - loss: 0.7432 - sparse_categorical_accuracy: 0.7701 - val_loss: 0.7273 - val_sparse_categorical_accuracy: 0.7734\n",
            "Epoch 11/40\n",
            "1500/1500 [==============================] - 3s 2ms/step - loss: 0.7305 - sparse_categorical_accuracy: 0.7724 - val_loss: 0.7104 - val_sparse_categorical_accuracy: 0.7813\n",
            "Epoch 12/40\n",
            "1500/1500 [==============================] - 3s 2ms/step - loss: 0.7209 - sparse_categorical_accuracy: 0.7760 - val_loss: 0.7023 - val_sparse_categorical_accuracy: 0.7768\n",
            "Epoch 13/40\n",
            "1500/1500 [==============================] - 4s 2ms/step - loss: 0.7129 - sparse_categorical_accuracy: 0.7772 - val_loss: 0.6994 - val_sparse_categorical_accuracy: 0.7803\n",
            "Epoch 14/40\n",
            "1500/1500 [==============================] - 4s 3ms/step - loss: 0.7063 - sparse_categorical_accuracy: 0.7824 - val_loss: 0.6844 - val_sparse_categorical_accuracy: 0.7872\n",
            "Epoch 15/40\n",
            "1500/1500 [==============================] - 4s 2ms/step - loss: 0.7004 - sparse_categorical_accuracy: 0.7827 - val_loss: 0.6881 - val_sparse_categorical_accuracy: 0.7823\n",
            "Epoch 16/40\n",
            "1500/1500 [==============================] - 4s 3ms/step - loss: 0.6969 - sparse_categorical_accuracy: 0.7840 - val_loss: 0.6811 - val_sparse_categorical_accuracy: 0.7878\n",
            "Epoch 17/40\n",
            "1500/1500 [==============================] - 4s 3ms/step - loss: 0.6922 - sparse_categorical_accuracy: 0.7857 - val_loss: 0.6761 - val_sparse_categorical_accuracy: 0.7896\n",
            "Epoch 18/40\n",
            "1500/1500 [==============================] - 4s 3ms/step - loss: 0.6881 - sparse_categorical_accuracy: 0.7874 - val_loss: 0.6743 - val_sparse_categorical_accuracy: 0.7893\n",
            "Epoch 19/40\n",
            "1500/1500 [==============================] - 4s 2ms/step - loss: 0.6844 - sparse_categorical_accuracy: 0.7884 - val_loss: 0.6753 - val_sparse_categorical_accuracy: 0.7878\n",
            "Epoch 20/40\n",
            "1500/1500 [==============================] - 4s 3ms/step - loss: 0.6822 - sparse_categorical_accuracy: 0.7894 - val_loss: 0.6675 - val_sparse_categorical_accuracy: 0.7916\n",
            "Epoch 21/40\n",
            "1500/1500 [==============================] - 4s 3ms/step - loss: 0.6797 - sparse_categorical_accuracy: 0.7909 - val_loss: 0.6699 - val_sparse_categorical_accuracy: 0.7928\n",
            "Epoch 22/40\n",
            "1500/1500 [==============================] - 4s 2ms/step - loss: 0.6775 - sparse_categorical_accuracy: 0.7911 - val_loss: 0.6635 - val_sparse_categorical_accuracy: 0.7934\n",
            "Epoch 23/40\n",
            "1500/1500 [==============================] - 4s 3ms/step - loss: 0.6751 - sparse_categorical_accuracy: 0.7920 - val_loss: 0.6631 - val_sparse_categorical_accuracy: 0.7935\n",
            "Epoch 24/40\n",
            "1500/1500 [==============================] - 4s 2ms/step - loss: 0.6730 - sparse_categorical_accuracy: 0.7928 - val_loss: 0.6715 - val_sparse_categorical_accuracy: 0.7931\n",
            "Epoch 25/40\n",
            "1500/1500 [==============================] - 4s 2ms/step - loss: 0.6717 - sparse_categorical_accuracy: 0.7946 - val_loss: 0.6547 - val_sparse_categorical_accuracy: 0.7969\n",
            "Epoch 26/40\n",
            "1500/1500 [==============================] - 4s 2ms/step - loss: 0.6695 - sparse_categorical_accuracy: 0.7949 - val_loss: 0.6590 - val_sparse_categorical_accuracy: 0.7955\n",
            "Epoch 27/40\n",
            "1500/1500 [==============================] - 4s 3ms/step - loss: 0.6678 - sparse_categorical_accuracy: 0.7949 - val_loss: 0.6677 - val_sparse_categorical_accuracy: 0.7946\n",
            "Epoch 28/40\n",
            "1500/1500 [==============================] - 4s 3ms/step - loss: 0.6657 - sparse_categorical_accuracy: 0.7945 - val_loss: 0.6583 - val_sparse_categorical_accuracy: 0.7970\n",
            "Epoch 29/40\n",
            "1500/1500 [==============================] - 4s 3ms/step - loss: 0.6658 - sparse_categorical_accuracy: 0.7961 - val_loss: 0.6610 - val_sparse_categorical_accuracy: 0.7964\n",
            "Epoch 30/40\n",
            "1500/1500 [==============================] - 4s 3ms/step - loss: 0.6637 - sparse_categorical_accuracy: 0.7977 - val_loss: 0.6495 - val_sparse_categorical_accuracy: 0.7996\n",
            "Epoch 31/40\n",
            "1500/1500 [==============================] - 4s 3ms/step - loss: 0.6623 - sparse_categorical_accuracy: 0.7969 - val_loss: 0.6493 - val_sparse_categorical_accuracy: 0.8033\n",
            "Epoch 32/40\n",
            "1500/1500 [==============================] - 4s 3ms/step - loss: 0.6615 - sparse_categorical_accuracy: 0.7984 - val_loss: 0.6486 - val_sparse_categorical_accuracy: 0.8006\n",
            "Epoch 33/40\n",
            "1500/1500 [==============================] - 5s 3ms/step - loss: 0.6597 - sparse_categorical_accuracy: 0.7990 - val_loss: 0.6494 - val_sparse_categorical_accuracy: 0.7997\n",
            "Epoch 34/40\n",
            "1500/1500 [==============================] - 4s 3ms/step - loss: 0.6586 - sparse_categorical_accuracy: 0.8004 - val_loss: 0.6484 - val_sparse_categorical_accuracy: 0.8016\n",
            "Epoch 35/40\n",
            "1500/1500 [==============================] - 4s 3ms/step - loss: 0.6568 - sparse_categorical_accuracy: 0.8002 - val_loss: 0.6554 - val_sparse_categorical_accuracy: 0.7952\n",
            "Epoch 36/40\n",
            "1500/1500 [==============================] - 5s 3ms/step - loss: 0.6567 - sparse_categorical_accuracy: 0.7995 - val_loss: 0.6617 - val_sparse_categorical_accuracy: 0.7967\n",
            "Epoch 37/40\n",
            "1500/1500 [==============================] - 4s 3ms/step - loss: 0.6556 - sparse_categorical_accuracy: 0.7992 - val_loss: 0.6416 - val_sparse_categorical_accuracy: 0.8051\n",
            "Epoch 38/40\n",
            "1500/1500 [==============================] - 5s 3ms/step - loss: 0.6547 - sparse_categorical_accuracy: 0.7999 - val_loss: 0.6529 - val_sparse_categorical_accuracy: 0.7995\n",
            "Epoch 39/40\n",
            "1500/1500 [==============================] - 4s 3ms/step - loss: 0.6538 - sparse_categorical_accuracy: 0.8011 - val_loss: 0.6521 - val_sparse_categorical_accuracy: 0.8015\n",
            "Epoch 40/40\n",
            "1500/1500 [==============================] - 4s 3ms/step - loss: 0.6522 - sparse_categorical_accuracy: 0.8012 - val_loss: 0.6406 - val_sparse_categorical_accuracy: 0.8047\n",
            "313/313 [==============================] - 1s 3ms/step - loss: 0.6642 - sparse_categorical_accuracy: 0.7967\n"
          ]
        }
      ]
    },
    {
      "cell_type": "code",
      "source": [
        "plt.figure(figsize = [10, 3])\n",
        "plt.subplot(121)\n",
        "plt.plot(history.history['sparse_categorical_accuracy'])\n",
        "plt.plot(history.history['val_sparse_categorical_accuracy'])\n",
        "\n",
        "plt.subplot(122)\n",
        "plt.plot(history.history['loss'])\n",
        "plt.plot(history.history['val_loss'])\n",
        "\n",
        "plt.show()"
      ],
      "metadata": {
        "colab": {
          "base_uri": "https://localhost:8080/",
          "height": 211
        },
        "id": "QH4iAxgMh1tS",
        "outputId": "47816cbd-80ab-49ed-9ec7-5118e45c08b5"
      },
      "execution_count": null,
      "outputs": [
        {
          "output_type": "display_data",
          "data": {
            "text/plain": [
              "<Figure size 720x216 with 2 Axes>"
            ],
            "image/png": "[encoded data removed]"
          },
          "metadata": {
            "needs_background": "light"
          }
        }
      ]
    },
    {
      "cell_type": "markdown",
      "source": [
        "Task 4.4"
      ],
      "metadata": {
        "id": "5lED7b3on7CE"
      }
    },
    {
      "cell_type": "code",
      "source": [
        "(train_data, train_labels), (test_data, test_labels) = tf.keras.datasets.mnist.load_data()"
      ],
      "metadata": {
        "id": "5sxfWSxPn8tM"
      },
      "execution_count": null,
      "outputs": []
    },
    {
      "cell_type": "code",
      "source": [
        "train_data = np.expand_dims(train_data, -1)/255\n",
        "test_data = np.expand_dims(test_data, -1)/255\n",
        "\n",
        "train_data.shape"
      ],
      "metadata": {
        "colab": {
          "base_uri": "https://localhost:8080/",
          "height": 217
        },
        "id": "zJVfX7JioNBh",
        "outputId": "e3aa8d72-3b44-4b03-c44d-ced0690bc4ba"
      },
      "execution_count": null,
      "outputs": [
        {
          "output_type": "error",
          "ename": "NameError",
          "evalue": "ignored",
          "traceback": [
            "\u001b[0;31m---------------------------------------------------------------------------\u001b[0m",
            "\u001b[0;31mNameError\u001b[0m                                 Traceback (most recent call last)",
            "\u001b[0;32m<ipython-input-1-0cc445c9b581>\u001b[0m in \u001b[0;36m<module>\u001b[0;34m\u001b[0m\n\u001b[0;32m----> 1\u001b[0;31m \u001b[0mtrain_data\u001b[0m \u001b[0;34m=\u001b[0m \u001b[0mnp\u001b[0m\u001b[0;34m.\u001b[0m\u001b[0mexpand_dims\u001b[0m\u001b[0;34m(\u001b[0m\u001b[0mtrain_data\u001b[0m\u001b[0;34m,\u001b[0m \u001b[0;34m-\u001b[0m\u001b[0;36m1\u001b[0m\u001b[0;34m)\u001b[0m\u001b[0;34m/\u001b[0m\u001b[0;36m255\u001b[0m\u001b[0;34m\u001b[0m\u001b[0;34m\u001b[0m\u001b[0m\n\u001b[0m\u001b[1;32m      2\u001b[0m \u001b[0mtest_data\u001b[0m \u001b[0;34m=\u001b[0m \u001b[0mnp\u001b[0m\u001b[0;34m.\u001b[0m\u001b[0mexpand_dims\u001b[0m\u001b[0;34m(\u001b[0m\u001b[0mtest_data\u001b[0m\u001b[0;34m,\u001b[0m \u001b[0;34m-\u001b[0m\u001b[0;36m1\u001b[0m\u001b[0;34m)\u001b[0m\u001b[0;34m/\u001b[0m\u001b[0;36m255\u001b[0m\u001b[0;34m\u001b[0m\u001b[0;34m\u001b[0m\u001b[0m\n\u001b[1;32m      3\u001b[0m \u001b[0;34m\u001b[0m\u001b[0m\n\u001b[1;32m      4\u001b[0m \u001b[0mtrain_data\u001b[0m\u001b[0;34m.\u001b[0m\u001b[0mshape\u001b[0m\u001b[0;34m\u001b[0m\u001b[0;34m\u001b[0m\u001b[0m\n",
            "\u001b[0;31mNameError\u001b[0m: name 'np' is not defined"
          ]
        }
      ]
    },
    {
      "cell_type": "code",
      "source": [
        "model = tf.keras.models.Sequential([\n",
        "    tf.keras.layers.Conv2D(16, kernel_size=(3, 3), activation=\"relu\"),\n",
        "    tf.keras.layers.MaxPooling2D(pool_size=(2, 2)),\n",
        "    tf.keras.layers.Conv2D(32, kernel_size=(3, 3), activation=\"relu\"),\n",
        "    tf.keras.layers.MaxPooling2D(pool_size=(2, 2)),\n",
        "    tf.keras.layers.Flatten(),\n",
        "    tf.keras.layers.Dropout(0.5),\n",
        "    tf.keras.layers.Dense(len(np.unique(test_labels)), activation = \"softmax\"),\n",
        "])\n",
        "\n",
        "model.compile(optimizer=tf.keras.optimizers.SGD(),\n",
        "              loss=tf.keras.losses.SparseCategoricalCrossentropy(),\n",
        "              metrics=tf.keras.metrics.SparseCategoricalAccuracy())\n",
        "\n",
        "history = model.fit(train_data, train_labels, epochs=10, validation_split=0.2, verbose=1)"
      ],
      "metadata": {
        "colab": {
          "base_uri": "https://localhost:8080/"
        },
        "id": "363DbHRJpBPD",
        "outputId": "0f5e5946-a7de-4569-d21f-4af7c28894b3"
      },
      "execution_count": null,
      "outputs": [
        {
          "output_type": "stream",
          "name": "stdout",
          "text": [
            "Epoch 1/10\n",
            "1500/1500 [==============================] - 39s 25ms/step - loss: 0.9809 - sparse_categorical_accuracy: 0.6784 - val_loss: 0.2321 - val_sparse_categorical_accuracy: 0.9360\n",
            "Epoch 2/10\n",
            "1500/1500 [==============================] - 35s 23ms/step - loss: 0.2806 - sparse_categorical_accuracy: 0.9161 - val_loss: 0.1505 - val_sparse_categorical_accuracy: 0.9580\n",
            "Epoch 3/10\n",
            "1500/1500 [==============================] - 34s 22ms/step - loss: 0.2118 - sparse_categorical_accuracy: 0.9360 - val_loss: 0.1206 - val_sparse_categorical_accuracy: 0.9661\n",
            "Epoch 4/10\n",
            "1500/1500 [==============================] - 33s 22ms/step - loss: 0.1781 - sparse_categorical_accuracy: 0.9464 - val_loss: 0.1065 - val_sparse_categorical_accuracy: 0.9703\n",
            "Epoch 5/10\n",
            "1500/1500 [==============================] - 35s 23ms/step - loss: 0.1594 - sparse_categorical_accuracy: 0.9521 - val_loss: 0.0964 - val_sparse_categorical_accuracy: 0.9728\n",
            "Epoch 6/10\n",
            "1500/1500 [==============================] - 33s 22ms/step - loss: 0.1461 - sparse_categorical_accuracy: 0.9552 - val_loss: 0.0898 - val_sparse_categorical_accuracy: 0.9750\n",
            "Epoch 7/10\n",
            "1500/1500 [==============================] - 33s 22ms/step - loss: 0.1386 - sparse_categorical_accuracy: 0.9586 - val_loss: 0.0842 - val_sparse_categorical_accuracy: 0.9768\n",
            "Epoch 8/10\n",
            "1500/1500 [==============================] - 35s 23ms/step - loss: 0.1311 - sparse_categorical_accuracy: 0.9607 - val_loss: 0.0811 - val_sparse_categorical_accuracy: 0.9771\n",
            "Epoch 9/10\n",
            "1500/1500 [==============================] - 34s 23ms/step - loss: 0.1233 - sparse_categorical_accuracy: 0.9623 - val_loss: 0.0791 - val_sparse_categorical_accuracy: 0.9785\n",
            "Epoch 10/10\n",
            "1500/1500 [==============================] - 34s 22ms/step - loss: 0.1178 - sparse_categorical_accuracy: 0.9649 - val_loss: 0.0734 - val_sparse_categorical_accuracy: 0.9800\n"
          ]
        }
      ]
    },
    {
      "cell_type": "code",
      "source": [
        "plt.figure(figsize = [10, 3])\n",
        "plt.subplot(121)\n",
        "plt.plot(history.history['sparse_categorical_accuracy'])\n",
        "plt.plot(history.history['val_sparse_categorical_accuracy'])\n",
        "\n",
        "plt.subplot(122)\n",
        "plt.plot(history.history['loss'])\n",
        "plt.plot(history.history['val_loss'])\n",
        "\n",
        "plt.show()"
      ],
      "metadata": {
        "colab": {
          "base_uri": "https://localhost:8080/",
          "height": 211
        },
        "id": "KZnIX36FxqBI",
        "outputId": "2ab6209a-2bb0-4e3e-cf61-af04c9d377ff"
      },
      "execution_count": null,
      "outputs": [
        {
          "output_type": "display_data",
          "data": {
            "text/plain": [
              "<Figure size 720x216 with 2 Axes>"
            ],
            "image/png": "[encoded data removed]"
          },
          "metadata": {
            "needs_background": "light"
          }
        }
      ]
    }
  ]
}